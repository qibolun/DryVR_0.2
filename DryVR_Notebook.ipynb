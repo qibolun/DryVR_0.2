{
 "cells": [
  {
   "cell_type": "code",
   "execution_count": 1,
   "metadata": {},
   "outputs": [],
   "source": [
    "from src.core.dryvrmain import verify"
   ]
  },
  {
   "cell_type": "code",
   "execution_count": 2,
   "metadata": {},
   "outputs": [],
   "source": [
    "from scipy.integrate import odeint\n",
    "import numpy as np \n",
    "\n",
    "def thermo_dynamic(y,t,rate):\n",
    "\tdydt = rate*y\n",
    "\treturn dydt\n",
    "\n",
    "def TC_Simulate(Mode,initialCondition,time_bound):\n",
    "\ttime_step = 0.05;\n",
    "\ttime_bound = float(time_bound)\n",
    "\tinitial = [float(tmp)  for tmp in initialCondition]\n",
    "\tnumber_points = int(np.ceil(time_bound/time_step))\n",
    "\tt = [i*time_step for i in range(0,number_points)]\n",
    "\tif t[-1] != time_step:\n",
    "\t\tt.append(time_bound)\n",
    "\n",
    "\ty_initial = initial[0]\n",
    "\n",
    "\tif Mode == 'On':\n",
    "\t\trate = 0.1\n",
    "\telif Mode == 'Off':\n",
    "\t\trate = -0.1\n",
    "\telse:\n",
    "\t\tprint('Wrong Mode name!')\n",
    "\tsol = odeint(thermo_dynamic,y_initial,t,args=(rate,),hmax = time_step)\n",
    "\n",
    "\t# Construct the final output\n",
    "\ttrace = []\n",
    "\tfor j in range(len(t)):\n",
    "\t\t#print t[j], current_psi\n",
    "\t\ttmp = []\n",
    "\t\ttmp.append(t[j])\n",
    "\t\ttmp.append(sol[j,0])\n",
    "\t\ttrace.append(tmp)\n",
    "\treturn trace"
   ]
  },
  {
   "cell_type": "code",
   "execution_count": 3,
   "metadata": {},
   "outputs": [],
   "source": [
    "args = {\n",
    "    \"vertex\" : [\"On\",\"Off\",\"On\"],\n",
    "    \"edge\":[[0,1],[1,2]],\n",
    "    \"variables\":[\"temp\"],\n",
    "    \"guards\":[\"And(t>1.0,t<=1.1)\",\"And(t>1.0,t<=1.1)\"],\n",
    "    \"initialSet\":[[75.0],[76.0]],\n",
    "    \"unsafeSet\":\"@On:temp>91@Off:temp>91\",\n",
    "    \"timeHorizon\":3.5,\n",
    "}"
   ]
  },
  {
   "cell_type": "code",
   "execution_count": 4,
   "metadata": {},
   "outputs": [
    {
     "name": "stdout",
     "output_type": "stream",
     "text": [
      "transit time 1.05 remain time 2.45\n",
      "transit time 1.0 remain time 1.45\n",
      "transit time 1.45 remain time 0.0\n",
      "Verification Begin\n",
      "===============================================\n",
      "Mode: 0\n",
      "stack size: 1\n",
      "remainTime: 3.5\n",
      "\n",
      "Lower Bound: [75.0]\n",
      "Upper Bound: [76.0]\n",
      "Delta: [0.5]\n",
      "\n",
      "current mode label: On\n",
      "Off 1.0 [[82.88479750557151], [84.83713438129338]] And(t>1.0,t<=1.1)\n",
      "Mode 0 check bloated tube safe\n",
      "Child exist in cur mode inital 1 is curModeStack Now\n",
      "===============================================\n",
      "Mode: 1\n",
      "stack size: 1\n",
      "remainTime: 2.5\n",
      "\n",
      "Lower Bound: [82.88479750557151]\n",
      "Upper Bound: [84.83713438129338]\n",
      "Delta: [0.9761684378609345]\n",
      "\n",
      "current mode label: Off\n",
      "On 1.0 [[73.88070144522607], [76.76017197110366]] And(t>1.0,t<=1.1)\n",
      "Mode 1 check bloated tube safe\n",
      "Child exist in cur mode inital 2 is curModeStack Now\n",
      "===============================================\n",
      "Mode: 2\n",
      "stack size: 1\n",
      "remainTime: 1.5\n",
      "\n",
      "Lower Bound: [73.88070144522607]\n",
      "Upper Bound: [76.76017197110366]\n",
      "Delta: [1.4397352629387967]\n",
      "\n",
      "current mode label: On\n",
      "Mode 2 check bloated tube safe\n",
      "No child exist in current initial, pop\n",
      "back flag safe from 2 to 1\n",
      "No child in prev mode initial, pop, 1 is curModeStack Now\n",
      "back flag safe from 1 to 0\n",
      "No child in prev mode initial, pop, 0 is curModeStack Now\n",
      "System is Safe!\n",
      "simulation time 0.0378980636597\n",
      "verification time 0.317549943924\n"
     ]
    }
   ],
   "source": [
    "verify(args, TC_Simulate)"
   ]
  }
 ],
 "metadata": {
  "kernelspec": {
   "display_name": "Python 2",
   "language": "python",
   "name": "python2"
  },
  "language_info": {
   "codemirror_mode": {
    "name": "ipython",
    "version": 2
   },
   "file_extension": ".py",
   "mimetype": "text/x-python",
   "name": "python",
   "nbconvert_exporter": "python",
   "pygments_lexer": "ipython2",
   "version": "2.7.10"
  }
 },
 "nbformat": 4,
 "nbformat_minor": 2
}
