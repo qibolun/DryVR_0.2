{
 "cells": [
  {
   "cell_type": "code",
   "execution_count": null,
   "metadata": {},
   "outputs": [],
   "source": [
    "from src.core.dryvrmain import graphSearch\n",
    "from examples.carinmaze.car import TC_Simulate as RobotSim\n"
   ]
  },
  {
   "cell_type": "code",
   "execution_count": null,
   "metadata": {},
   "outputs": [],
   "source": [
    "graphSearchArgs = {\n",
    "\t\"modes\":[\"UP\",\"UPRIGHT\", \"RIGHT\", \"DOWNRIGHT\", \"DOWN\", \"DOWNLEFT\", \"LEFT\", \"UPLEFT\"], # 8 directions\n",
    "\t\"variables\":[\"x\",\"y\",\"vx\",\"vy\"],\n",
    "\t\"initialSet\":[[1.0,1.0,1.0,1.0],[1.1,1.0,1.0,1.0]],\n",
    "\t\"unsafeSet\":\"@Allmode:Or(And(x>=2.0, x<3.0, y>=3.0, y<=4.0), And(x>=3.0, x<=4.0, y>=2.0, y<3.0), x<0, x>5, y<0, y>5)\",\n",
    "\t\"goalSet\":\"And(x>=3.0, x<=4.0, y>=3.0, y<=4.0)\",\n",
    "\t\"timeHorizon\":10.0,\n",
    "\t\"minTimeThres\":1.0,\n",
    "\t\"goal\":[[\"x\",\"y\"],[3.0,3.0],[4.0,4.0]]\n",
    "}"
   ]
  },
  {
   "cell_type": "code",
   "execution_count": null,
   "metadata": {},
   "outputs": [],
   "source": [
    "graphSearch(graphSearchArgs, RobotSim)"
   ]
  }
 ],
 "metadata": {
  "kernelspec": {
   "display_name": "Python 2",
   "language": "python",
   "name": "python2"
  },
  "language_info": {
   "codemirror_mode": {
    "name": "ipython",
    "version": 2
   },
   "file_extension": ".py",
   "mimetype": "text/x-python",
   "name": "python",
   "nbconvert_exporter": "python",
   "pygments_lexer": "ipython2",
   "version": "2.7.10"
  }
 },
 "nbformat": 4,
 "nbformat_minor": 2
}
